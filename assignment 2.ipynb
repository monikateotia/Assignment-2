{
 "cells": [
  {
   "cell_type": "markdown",
   "id": "b1fc7c1f-0581-443e-9aae-e8b1e3cd4ff2",
   "metadata": {},
   "source": [
    "ASSIGNMENT - 2"
   ]
  },
  {
   "cell_type": "markdown",
   "id": "f0d01711-0e18-4fe8-a54b-d6c1d1679a68",
   "metadata": {},
   "source": [
    "Q1-Write a program to accept percentage from the user and display the grade according to the following criteria :"
   ]
  },
  {
   "cell_type": "code",
   "execution_count": null,
   "id": "0ed6dffa-a57d-4cf1-bbb4-cfcdd384c318",
   "metadata": {},
   "outputs": [],
   "source": [
    "Marks                      Grade\n",
    ">90                        A\n",
    ">80 and <=90               B\n",
    ">=60 and <=80              C\n",
    "below 60                   D\n"
   ]
  },
  {
   "cell_type": "code",
   "execution_count": 11,
   "id": "81d46849-5986-4bf6-911f-42120e35aa06",
   "metadata": {},
   "outputs": [
    {
     "name": "stdin",
     "output_type": "stream",
     "text": [
      "enter your marks 59\n"
     ]
    },
    {
     "name": "stdout",
     "output_type": "stream",
     "text": [
      "Grade D\n"
     ]
    }
   ],
   "source": [
    "marks =int(input('enter your marks'))\n",
    "if marks >90 :\n",
    "    print('Grade A')\n",
    "elif marks >80 and marks <=90:\n",
    "    print ('Grade B')\n",
    "elif marks >=60 and marks <=80:\n",
    "    print ('Grade C')\n",
    "else:\n",
    "    print('Grade D')"
   ]
  },
  {
   "cell_type": "code",
   "execution_count": null,
   "id": "768fdf51-db5c-4730-9887-20900070cbf3",
   "metadata": {},
   "outputs": [],
   "source": [
    "Q2-Write a program to accept the cost price of a bike and display the road tax to be paid according to\n",
    "the following criteria:\n",
    "tax                                cost price\n",
    "15%                                  >100000\n",
    "10%                                  >50000 and <=100000\n",
    "5%                                   < =50000"
   ]
  },
  {
   "cell_type": "code",
   "execution_count": 17,
   "id": "cbc4080e-e6d2-4618-9b8f-b94b08bde3a8",
   "metadata": {},
   "outputs": [
    {
     "name": "stdin",
     "output_type": "stream",
     "text": [
      "enter the price 40000\n"
     ]
    },
    {
     "name": "stdout",
     "output_type": "stream",
     "text": [
      "road tax to be paid is 5%\n"
     ]
    }
   ],
   "source": [
    "cost_price =int(input('enter the price'))\n",
    "if cost_price > 100000:\n",
    "                print('road tax to be paid is 15%')\n",
    "elif cost_price >50000 and cost_price <= 100000:\n",
    "                print ('road tax to be paid is 10%')\n",
    "elif cost_price <= 50000:\n",
    "                print ('road tax to be paid is 5%')\n",
    "                "
   ]
  },
  {
   "cell_type": "code",
   "execution_count": null,
   "id": "7edeba1a-e5ae-4c5a-ad2b-63c7156411c2",
   "metadata": {},
   "outputs": [],
   "source": [
    "Q3-Accept any city from the user and display monuments of that city.\n",
    "city                                     monument\n",
    "Delhi                                      Red Fort\n",
    "Agra                                       Taj Mahal\n",
    "Jaipur                                      Jal Mahal\n"
   ]
  },
  {
   "cell_type": "code",
   "execution_count": 23,
   "id": "1554b332-4827-4c2b-bef5-b5c53d0d6fcf",
   "metadata": {},
   "outputs": [
    {
     "name": "stdin",
     "output_type": "stream",
     "text": [
      "enter the name of the city Jaipur\n"
     ]
    },
    {
     "name": "stdout",
     "output_type": "stream",
     "text": [
      "Jal Mahal\n"
     ]
    }
   ],
   "source": [
    "city =input ('enter the name of the city')\n",
    "if city =='Delhi':\n",
    "    print ('Red Fort')\n",
    "elif city == 'Agra' :\n",
    "    print ('Taj Mahal')\n",
    "elif city =='Jaipur' :\n",
    "    print ('Jal Mahal')\n",
    "\n"
   ]
  },
  {
   "cell_type": "markdown",
   "id": "ee9bc9d7-d523-413c-92db-18316686c2f2",
   "metadata": {},
   "source": [
    "Q 4-Check how many times a given number can be divided by 3 before it is less than or equal to 10\n"
   ]
  },
  {
   "cell_type": "code",
   "execution_count": 4,
   "id": "7ba2327a-210c-4096-aeac-f9bda4d00d7c",
   "metadata": {},
   "outputs": [
    {
     "name": "stdin",
     "output_type": "stream",
     "text": [
      "enter your digit 15\n"
     ]
    },
    {
     "name": "stdout",
     "output_type": "stream",
     "text": [
      "your given number will be 2 times divided by 3 before it is less then or equal to 10\n"
     ]
    }
   ],
   "source": [
    "n=int(input('enter your digit'))\n",
    "l=[]\n",
    "counter=n\n",
    "while counter>=10:\n",
    "    l.append(counter)\n",
    "    counter=counter-3\n",
    "l\n",
    "len(l)\n",
    "print('your given number will be' ,len(l) ,'times divided by 3 before it is less then or equal to 10')"
   ]
  },
  {
   "cell_type": "markdown",
   "id": "9e4ce140-b34b-4f05-a11e-ab3d017e7333",
   "metadata": {},
   "source": [
    "Q5-Why and when to use while loop in python give a detailed discription with example?\n"
   ]
  },
  {
   "cell_type": "markdown",
   "id": "8e78f184-3955-4831-a9c5-9b9a055a5d30",
   "metadata": {},
   "source": [
    "Ans-Python while loop is used to run a block code until a certain condition is met.\n",
    "here A while loop evaluates the condition .if the condition evaluates to true ,the code inside the while loop\n",
    "is executed for ex."
   ]
  },
  {
   "cell_type": "code",
   "execution_count": 1,
   "id": "49adcbd7-a224-4bdc-94d9-a841c496c9ca",
   "metadata": {},
   "outputs": [
    {
     "name": "stdout",
     "output_type": "stream",
     "text": [
      "2\n",
      "3\n",
      "4\n",
      "5\n",
      "6\n",
      "7\n",
      "8\n",
      "9\n",
      "10\n"
     ]
    }
   ],
   "source": [
    "a=2\n",
    "while a<=10:\n",
    "    print (a)\n",
    "    a=a+1"
   ]
  },
  {
   "cell_type": "markdown",
   "id": "238584d2-7a19-40c6-952a-82921223f07d",
   "metadata": {},
   "source": [
    "Q 6-Use nested while loop to print 3 diffrent patterns."
   ]
  },
  {
   "cell_type": "markdown",
   "id": "e90895fa-32b8-47cb-9469-b7808f4d96e1",
   "metadata": {},
   "source": [
    "ANS-pattern 1"
   ]
  },
  {
   "cell_type": "code",
   "execution_count": 1,
   "id": "acbc4c71-4a0e-46ca-b322-45b815b51eb0",
   "metadata": {},
   "outputs": [
    {
     "name": "stdout",
     "output_type": "stream",
     "text": [
      "1\n",
      "2\n",
      "1\n",
      "2\n",
      "3\n",
      "1\n",
      "2\n",
      "3\n",
      "4\n"
     ]
    }
   ],
   "source": [
    "a=2\n",
    "while a<=4:\n",
    "    b=1\n",
    "    while b <=a:\n",
    "        print(b)\n",
    "        b=b+1\n",
    "    a=a+1"
   ]
  },
  {
   "cell_type": "code",
   "execution_count": null,
   "id": "dbc28415-4449-49c1-9a4e-4c22266eac8a",
   "metadata": {},
   "outputs": [],
   "source": [
    "#pattern 2"
   ]
  },
  {
   "cell_type": "code",
   "execution_count": 1,
   "id": "f292cf7b-74ce-4973-955c-36947d0227eb",
   "metadata": {},
   "outputs": [
    {
     "name": "stdout",
     "output_type": "stream",
     "text": [
      "5\n",
      "4\n",
      "3\n",
      "2\n",
      "1\n",
      "0\n",
      "10\n",
      "6\n",
      "5\n",
      "4\n",
      "3\n",
      "2\n",
      "1\n",
      "0\n",
      "11\n",
      "7\n",
      "6\n",
      "5\n",
      "4\n",
      "3\n",
      "2\n",
      "1\n",
      "0\n",
      "12\n"
     ]
    }
   ],
   "source": [
    "a=10\n",
    "while a<=12:\n",
    "    b=5\n",
    "    while b<=a:\n",
    "        c=a-b\n",
    "        print(c)\n",
    "        b=b+1\n",
    "    print(a)\n",
    "    a=a+1"
   ]
  },
  {
   "cell_type": "code",
   "execution_count": 2,
   "id": "c31e729c-dc08-4efa-8fb5-9a222ed6693c",
   "metadata": {},
   "outputs": [],
   "source": [
    "#pattern 3"
   ]
  },
  {
   "cell_type": "code",
   "execution_count": 1,
   "id": "e3bdc2ee-2c0c-4101-bbed-de4778fa1a2b",
   "metadata": {},
   "outputs": [
    {
     "name": "stdout",
     "output_type": "stream",
     "text": [
      "never give up\n",
      "never give up\n",
      "never give up\n",
      "never give up\n",
      "never give up\n",
      "never give up\n",
      "never give up\n",
      "never give up\n",
      "never give up\n",
      "never give up\n",
      "never give up\n",
      "never give up\n"
     ]
    }
   ],
   "source": [
    "a=[2,4,6,8,10]\n",
    "for i in a:\n",
    "    while i <=8:\n",
    "        j=1\n",
    "        while j <=3:\n",
    "            print('never give up')\n",
    "            j=j+1\n",
    "        break\n",
    "        \n",
    "    \n",
    "            \n",
    "            \n",
    "    "
   ]
  },
  {
   "cell_type": "markdown",
   "id": "faca383c-563f-4ed2-9627-537b2ce8ea3d",
   "metadata": {},
   "source": [
    "Q 7-Reverse a while loop to display number from 10 to 1 .\n"
   ]
  },
  {
   "cell_type": "code",
   "execution_count": 1,
   "id": "39ae632c-57ea-4c4e-872d-bda808034874",
   "metadata": {},
   "outputs": [
    {
     "name": "stdout",
     "output_type": "stream",
     "text": [
      "10\n",
      "9\n",
      "8\n",
      "7\n",
      "6\n",
      "5\n",
      "4\n",
      "3\n",
      "2\n",
      "1\n"
     ]
    }
   ],
   "source": [
    "a=10\n",
    "while a <=10 and a>=1 :\n",
    "    print(a)\n",
    "    a=a-1"
   ]
  },
  {
   "cell_type": "markdown",
   "id": "001711e9-5435-4dda-bf65-4eeb78cd7823",
   "metadata": {},
   "source": [
    "Q 8-Reverse a while loop to display number from 10 to 1 .\n"
   ]
  },
  {
   "cell_type": "code",
   "execution_count": 2,
   "id": "611d69e2-d247-48f2-814e-dfd04b58c9bd",
   "metadata": {},
   "outputs": [
    {
     "name": "stdout",
     "output_type": "stream",
     "text": [
      "10\n",
      "9\n",
      "8\n",
      "7\n",
      "6\n",
      "5\n",
      "4\n",
      "3\n",
      "2\n",
      "1\n"
     ]
    }
   ],
   "source": [
    "a=10\n",
    "while a <=10 and a>=1 :\n",
    "    print(a)\n",
    "    a=a-1"
   ]
  },
  {
   "cell_type": "markdown",
   "id": "638b883b-e8dd-44f7-8a89-daf94b48af77",
   "metadata": {},
   "source": [
    "                                  ***END***"
   ]
  }
 ],
 "metadata": {
  "kernelspec": {
   "display_name": "Python 3 (ipykernel)",
   "language": "python",
   "name": "python3"
  },
  "language_info": {
   "codemirror_mode": {
    "name": "ipython",
    "version": 3
   },
   "file_extension": ".py",
   "mimetype": "text/x-python",
   "name": "python",
   "nbconvert_exporter": "python",
   "pygments_lexer": "ipython3",
   "version": "3.10.8"
  }
 },
 "nbformat": 4,
 "nbformat_minor": 5
}
